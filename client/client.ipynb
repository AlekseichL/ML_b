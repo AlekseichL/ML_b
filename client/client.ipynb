{
 "cells": [
  {
   "cell_type": "markdown",
   "id": "0d833742",
   "metadata": {},
   "source": [
    "### Строим запрос к нашему сервису"
   ]
  },
  {
   "cell_type": "code",
   "execution_count": 1,
   "id": "cf0230dc",
   "metadata": {},
   "outputs": [],
   "source": [
    "import requests\n",
    "import urllib.request\n",
    "import json"
   ]
  },
  {
   "cell_type": "code",
   "execution_count": 8,
   "id": "ecbf9359",
   "metadata": {},
   "outputs": [],
   "source": [
    "# Пример данных\n",
    "data = (\n",
    "    \"Stustwo offers you the opportunity to be yourself, whilst delivering thi\",\n",
    "    \"ustwo offers you the opportunity ble on salary and there is the potent to be yourself, whilst delivering the best.\",\n",
    "    \"We are negotiable on salary and there is the potential for equity for the right candidate.\",\n",
    "    \"We help teachers get safe &amp\"\n",
    ")"
   ]
  },
  {
   "cell_type": "code",
   "execution_count": 9,
   "id": "a7f6302d",
   "metadata": {},
   "outputs": [],
   "source": [
    "# формируем запрос\n",
    "def send_json(x):\n",
    "    description, company_profile, benefits, requirements = x\n",
    "    #print(description, company_profile, benefits, requirements)\n",
    "    body = {\n",
    "        'description': description,\n",
    "        'company_profile': company_profile,\n",
    "        'benefits': benefits,\n",
    "        'requirements': requirements\n",
    "        }\n",
    "    myurl = 'http://127.0.0.1:5000/' + '/predict'\n",
    "    headers = {'content-type': 'application/json; charset=utf-8'}\n",
    "    response = requests.post(myurl, json=body, headers=headers)\n",
    "    return response.json()['predictions']"
   ]
  },
  {
   "cell_type": "code",
   "execution_count": 10,
   "id": "ab6ed53e",
   "metadata": {},
   "outputs": [
    {
     "name": "stdout",
     "output_type": "stream",
     "text": [
      "предсказание 0.0178050763452046\n"
     ]
    }
   ],
   "source": [
    "# обращение к серверу с запросом из одного набора (его построили руками выше - data)\n",
    "response = send_json(data)\n",
    "print('предсказание', response)"
   ]
  },
  {
   "cell_type": "markdown",
   "id": "cc12562d",
   "metadata": {},
   "source": [
    "### Сделаем обработку массы запросов:"
   ]
  },
  {
   "cell_type": "code",
   "execution_count": 11,
   "id": "3255fa63",
   "metadata": {},
   "outputs": [],
   "source": [
    "import pandas as pd\n",
    "from sklearn.metrics import roc_auc_score, roc_curve, precision_recall_curve\n",
    "from sklearn.metrics import f1_score\n",
    "from urllib import request, parse\n",
    "\n",
    "\n",
    "X_test = pd.read_csv(\"X_test.csv\")\n",
    "y_test = pd.read_csv(\"y_test.csv\")\n",
    "\n",
    "X_test.fillna('', inplace=True)"
   ]
  },
  {
   "cell_type": "code",
   "execution_count": 13,
   "id": "a0ed0d8f",
   "metadata": {},
   "outputs": [
    {
     "data": {
      "text/html": [
       "<div>\n",
       "<style scoped>\n",
       "    .dataframe tbody tr th:only-of-type {\n",
       "        vertical-align: middle;\n",
       "    }\n",
       "\n",
       "    .dataframe tbody tr th {\n",
       "        vertical-align: top;\n",
       "    }\n",
       "\n",
       "    .dataframe thead th {\n",
       "        text-align: right;\n",
       "    }\n",
       "</style>\n",
       "<table border=\"1\" class=\"dataframe\">\n",
       "  <thead>\n",
       "    <tr style=\"text-align: right;\">\n",
       "      <th></th>\n",
       "      <th>description</th>\n",
       "      <th>company_profile</th>\n",
       "      <th>benefits</th>\n",
       "      <th>requirements</th>\n",
       "    </tr>\n",
       "  </thead>\n",
       "  <tbody>\n",
       "    <tr>\n",
       "      <th>0</th>\n",
       "      <td>Stylect is a dynamic startup that helps helps ...</td>\n",
       "      <td></td>\n",
       "      <td>We are negotiable on salary and there is the p...</td>\n",
       "      <td>We don’t care where you studied or what your G...</td>\n",
       "    </tr>\n",
       "    <tr>\n",
       "      <th>1</th>\n",
       "      <td>General Summary: Achieves maximum sales profit...</td>\n",
       "      <td></td>\n",
       "      <td>Great Health and DentalFast Advancement Opport...</td>\n",
       "      <td></td>\n",
       "    </tr>\n",
       "    <tr>\n",
       "      <th>2</th>\n",
       "      <td>At ustwo™ you get to be yourself, whilst deliv...</td>\n",
       "      <td>ustwo offers you the opportunity to be yoursel...</td>\n",
       "      <td></td>\n",
       "      <td>Skills• Experience interfacing directly with c...</td>\n",
       "    </tr>\n",
       "    <tr>\n",
       "      <th>3</th>\n",
       "      <td>About EDITDEDITD runs the world's biggest appa...</td>\n",
       "      <td>We build software for fashion retailers, to he...</td>\n",
       "      <td></td>\n",
       "      <td>Required Skills / Experience:Ability to analys...</td>\n",
       "    </tr>\n",
       "    <tr>\n",
       "      <th>4</th>\n",
       "      <td>As a Web Engineer at Runscope you'll be respon...</td>\n",
       "      <td>Runscope is building tools for developers work...</td>\n",
       "      <td>Be a part of an experienced team who have work...</td>\n",
       "      <td>Extensive front-end web experience (HTML/CSS/J...</td>\n",
       "    </tr>\n",
       "    <tr>\n",
       "      <th>...</th>\n",
       "      <td>...</td>\n",
       "      <td>...</td>\n",
       "      <td>...</td>\n",
       "      <td>...</td>\n",
       "    </tr>\n",
       "    <tr>\n",
       "      <th>5896</th>\n",
       "      <td>Fabrication and Printing Company in Long Islan...</td>\n",
       "      <td></td>\n",
       "      <td>Excellent opportunity to learn exci...</td>\n",
       "      <td>-        You must be proficient in Photoshop a...</td>\n",
       "    </tr>\n",
       "    <tr>\n",
       "      <th>5897</th>\n",
       "      <td>Serve as the primary lead and project manager ...</td>\n",
       "      <td>Palerra, Inc. designed LORIC™ to protect an en...</td>\n",
       "      <td>What's In It For You?Competitive compensation ...</td>\n",
       "      <td>5-6 years running, managing and operating mark...</td>\n",
       "    </tr>\n",
       "    <tr>\n",
       "      <th>5898</th>\n",
       "      <td>Jiffy, a world wide leader in mobile applicati...</td>\n",
       "      <td>Jiffy Worldwide is the parent company of the J...</td>\n",
       "      <td></td>\n",
       "      <td>iOS Developer should be very familiar and expe...</td>\n",
       "    </tr>\n",
       "    <tr>\n",
       "      <th>5899</th>\n",
       "      <td>What our client needs…A Medical Director who i...</td>\n",
       "      <td>Human capital is usually the biggest asset and...</td>\n",
       "      <td></td>\n",
       "      <td>What you need to have….Doctor of Medicine (MD)...</td>\n",
       "    </tr>\n",
       "    <tr>\n",
       "      <th>5900</th>\n",
       "      <td>We seek a Paris-based Back-end Developer with ...</td>\n",
       "      <td>AREA 17 is an interactive agency. We take an i...</td>\n",
       "      <td>MutuelleTransportation Stipend25 vacation days...</td>\n",
       "      <td>Required Skills:2-3 years of experience min. d...</td>\n",
       "    </tr>\n",
       "  </tbody>\n",
       "</table>\n",
       "<p>5901 rows × 4 columns</p>\n",
       "</div>"
      ],
      "text/plain": [
       "                                            description  \\\n",
       "0     Stylect is a dynamic startup that helps helps ...   \n",
       "1     General Summary: Achieves maximum sales profit...   \n",
       "2     At ustwo™ you get to be yourself, whilst deliv...   \n",
       "3     About EDITDEDITD runs the world's biggest appa...   \n",
       "4     As a Web Engineer at Runscope you'll be respon...   \n",
       "...                                                 ...   \n",
       "5896  Fabrication and Printing Company in Long Islan...   \n",
       "5897  Serve as the primary lead and project manager ...   \n",
       "5898  Jiffy, a world wide leader in mobile applicati...   \n",
       "5899  What our client needs…A Medical Director who i...   \n",
       "5900  We seek a Paris-based Back-end Developer with ...   \n",
       "\n",
       "                                        company_profile  \\\n",
       "0                                                         \n",
       "1                                                         \n",
       "2     ustwo offers you the opportunity to be yoursel...   \n",
       "3     We build software for fashion retailers, to he...   \n",
       "4     Runscope is building tools for developers work...   \n",
       "...                                                 ...   \n",
       "5896                                                      \n",
       "5897  Palerra, Inc. designed LORIC™ to protect an en...   \n",
       "5898  Jiffy Worldwide is the parent company of the J...   \n",
       "5899  Human capital is usually the biggest asset and...   \n",
       "5900  AREA 17 is an interactive agency. We take an i...   \n",
       "\n",
       "                                               benefits  \\\n",
       "0     We are negotiable on salary and there is the p...   \n",
       "1     Great Health and DentalFast Advancement Opport...   \n",
       "2                                                         \n",
       "3                                                         \n",
       "4     Be a part of an experienced team who have work...   \n",
       "...                                                 ...   \n",
       "5896             Excellent opportunity to learn exci...   \n",
       "5897  What's In It For You?Competitive compensation ...   \n",
       "5898                                                      \n",
       "5899                                                      \n",
       "5900  MutuelleTransportation Stipend25 vacation days...   \n",
       "\n",
       "                                           requirements  \n",
       "0     We don’t care where you studied or what your G...  \n",
       "1                                                        \n",
       "2     Skills• Experience interfacing directly with c...  \n",
       "3     Required Skills / Experience:Ability to analys...  \n",
       "4     Extensive front-end web experience (HTML/CSS/J...  \n",
       "...                                                 ...  \n",
       "5896  -        You must be proficient in Photoshop a...  \n",
       "5897  5-6 years running, managing and operating mark...  \n",
       "5898  iOS Developer should be very familiar and expe...  \n",
       "5899  What you need to have….Doctor of Medicine (MD)...  \n",
       "5900  Required Skills:2-3 years of experience min. d...  \n",
       "\n",
       "[5901 rows x 4 columns]"
      ]
     },
     "execution_count": 13,
     "metadata": {},
     "output_type": "execute_result"
    }
   ],
   "source": [
    "X_test[['description', 'company_profile', 'benefits', 'requirements']]"
   ]
  },
  {
   "cell_type": "markdown",
   "id": "be96e777",
   "metadata": {},
   "source": [
    "### Передаем запрос одиночный из наших данных и посмотрим на ответ"
   ]
  },
  {
   "cell_type": "code",
   "execution_count": 14,
   "id": "e51c6cda",
   "metadata": {},
   "outputs": [],
   "source": [
    "response = send_json(X_test[['description', 'company_profile', 'benefits', 'requirements']].iloc[0,:])"
   ]
  },
  {
   "cell_type": "code",
   "execution_count": 15,
   "id": "b5fbf8e5",
   "metadata": {},
   "outputs": [
    {
     "data": {
      "text/plain": [
       "0.03830971111833946"
      ]
     },
     "execution_count": 15,
     "metadata": {},
     "output_type": "execute_result"
    }
   ],
   "source": [
    "response"
   ]
  },
  {
   "cell_type": "markdown",
   "id": "0df249ba",
   "metadata": {},
   "source": [
    "Сделаем N запросов и оценим время"
   ]
  },
  {
   "cell_type": "code",
   "execution_count": 16,
   "id": "9c518507",
   "metadata": {},
   "outputs": [],
   "source": [
    "N = 50"
   ]
  },
  {
   "cell_type": "code",
   "execution_count": 17,
   "id": "dace8642",
   "metadata": {},
   "outputs": [
    {
     "name": "stdout",
     "output_type": "stream",
     "text": [
      "CPU times: total: 78.1 ms\n",
      "Wall time: 222 ms\n"
     ]
    }
   ],
   "source": [
    "%%time\n",
    "predictions = X_test[\n",
    "                     ['description', 'company_profile', 'benefits', 'requirements']\n",
    "                     ].iloc[:N].apply(lambda x: send_json(x), axis=1)"
   ]
  },
  {
   "cell_type": "code",
   "execution_count": 18,
   "id": "1dd98383",
   "metadata": {},
   "outputs": [
    {
     "data": {
      "text/plain": [
       "array([0.03830971, 0.05181088, 0.00373199, 0.00121891, 0.0011764 ])"
      ]
     },
     "execution_count": 18,
     "metadata": {},
     "output_type": "execute_result"
    }
   ],
   "source": [
    "predictions.values[:5]"
   ]
  },
  {
   "cell_type": "markdown",
   "id": "e3b32e55",
   "metadata": {},
   "source": [
    "### Посчитаем метрику"
   ]
  },
  {
   "cell_type": "code",
   "execution_count": 19,
   "id": "40e1283e",
   "metadata": {},
   "outputs": [
    {
     "data": {
      "text/html": [
       "<div>\n",
       "<style scoped>\n",
       "    .dataframe tbody tr th:only-of-type {\n",
       "        vertical-align: middle;\n",
       "    }\n",
       "\n",
       "    .dataframe tbody tr th {\n",
       "        vertical-align: top;\n",
       "    }\n",
       "\n",
       "    .dataframe thead th {\n",
       "        text-align: right;\n",
       "    }\n",
       "</style>\n",
       "<table border=\"1\" class=\"dataframe\">\n",
       "  <thead>\n",
       "    <tr style=\"text-align: right;\">\n",
       "      <th></th>\n",
       "      <th>fraudulent</th>\n",
       "    </tr>\n",
       "  </thead>\n",
       "  <tbody>\n",
       "    <tr>\n",
       "      <th>0</th>\n",
       "      <td>0</td>\n",
       "    </tr>\n",
       "    <tr>\n",
       "      <th>1</th>\n",
       "      <td>0</td>\n",
       "    </tr>\n",
       "    <tr>\n",
       "      <th>2</th>\n",
       "      <td>0</td>\n",
       "    </tr>\n",
       "    <tr>\n",
       "      <th>3</th>\n",
       "      <td>0</td>\n",
       "    </tr>\n",
       "    <tr>\n",
       "      <th>4</th>\n",
       "      <td>0</td>\n",
       "    </tr>\n",
       "  </tbody>\n",
       "</table>\n",
       "</div>"
      ],
      "text/plain": [
       "   fraudulent\n",
       "0           0\n",
       "1           0\n",
       "2           0\n",
       "3           0\n",
       "4           0"
      ]
     },
     "execution_count": 19,
     "metadata": {},
     "output_type": "execute_result"
    }
   ],
   "source": [
    "y_test.head()"
   ]
  },
  {
   "cell_type": "code",
   "execution_count": 20,
   "id": "c7d6da34",
   "metadata": {},
   "outputs": [
    {
     "name": "stdout",
     "output_type": "stream",
     "text": [
      "Best Threshold=0.1353388165933873, F-Score=1.000, Precision=1.000, Recall=1.000\n"
     ]
    }
   ],
   "source": [
    "import numpy as np\n",
    "\n",
    "precision, recall, thresholds = precision_recall_curve(y_test[:N], predictions)\n",
    "\n",
    "fscore = (2 * precision * recall) / (precision + recall)\n",
    "# locate the index of the largest f score\n",
    "ix = np.argmax(fscore)\n",
    "print(f'Best Threshold={thresholds[ix]}, F-Score={fscore[ix]:.3f}, Precision={precision[ix]:.3f}, Recall={recall[ix]:.3f}')"
   ]
  },
  {
   "cell_type": "code",
   "execution_count": 21,
   "id": "6efd5b1b",
   "metadata": {},
   "outputs": [
    {
     "data": {
      "text/plain": [
       "1.0"
      ]
     },
     "execution_count": 21,
     "metadata": {},
     "output_type": "execute_result"
    }
   ],
   "source": [
    "roc_auc_score(y_score=predictions.values, y_true=y_test.values[:N])"
   ]
  }
 ],
 "metadata": {
  "kernelspec": {
   "display_name": "Python 3 (ipykernel)",
   "language": "python",
   "name": "python3"
  },
  "language_info": {
   "codemirror_mode": {
    "name": "ipython",
    "version": 3
   },
   "file_extension": ".py",
   "mimetype": "text/x-python",
   "name": "python",
   "nbconvert_exporter": "python",
   "pygments_lexer": "ipython3",
   "version": "3.11.3"
  }
 },
 "nbformat": 4,
 "nbformat_minor": 5
}
